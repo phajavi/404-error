{
  "cells": [
    {
      "cell_type": "markdown",
      "metadata": {
        "id": "view-in-github",
        "colab_type": "text"
      },
      "source": [
        "<a href=\"https://colab.research.google.com/github/phajavi/404-error/blob/main/mnist_CNN.ipynb\" target=\"_parent\"><img src=\"https://colab.research.google.com/assets/colab-badge.svg\" alt=\"Open In Colab\"/></a>"
      ]
    },
    {
      "cell_type": "code",
      "execution_count": 1,
      "metadata": {
        "id": "lQFzQ8O9jTCs"
      },
      "outputs": [],
      "source": [
        "import numpy as np\n",
        "from tensorflow.keras.datasets import mnist\n",
        "from tensorflow.keras.models import Sequential\n",
        "from tensorflow.keras.layers import Conv2D, MaxPooling2D, Flatten, Dense\n",
        "from tensorflow.keras.utils  import to_categorical\n",
        "import matplotlib.pyplot as plt\n",
        "import pandas as pd\n",
        "from sklearn.model_selection import train_test_split\n",
        "\n"
      ]
    },
    {
      "cell_type": "code",
      "execution_count": 2,
      "metadata": {
        "id": "U8g52RDzjvpc",
        "colab": {
          "base_uri": "https://localhost:8080/"
        },
        "outputId": "b8535fd1-983c-46cf-c7b8-039b1c2abdd7"
      },
      "outputs": [
        {
          "output_type": "stream",
          "name": "stdout",
          "text": [
            "Downloading data from https://storage.googleapis.com/tensorflow/tf-keras-datasets/mnist.npz\n",
            "11490434/11490434 [==============================] - 0s 0us/step\n"
          ]
        }
      ],
      "source": [
        "# load mnist dataset\n",
        "(x_train, y_train), (x_test, y_test) = mnist.load_data()\n",
        "x_train, x_test, y_train, y_test = train_test_split(x_train, y_train, test_size=0.2, random_state=42, shuffle=True)\n",
        "\n"
      ]
    },
    {
      "cell_type": "code",
      "execution_count": 3,
      "metadata": {
        "colab": {
          "base_uri": "https://localhost:8080/",
          "height": 430
        },
        "id": "EYaQGWHhlRqo",
        "outputId": "aeac4a20-f484-4d8d-a027-1e018fe19adc"
      },
      "outputs": [
        {
          "output_type": "display_data",
          "data": {
            "text/plain": [
              "<Figure size 640x480 with 1 Axes>"
            ],
            "image/png": "[encoded data removed]"
          },
          "metadata": {}
        }
      ],
      "source": [
        "plt.imshow(x_train[2], cmap = \"gray\")\n",
        "plt.show()\n"
      ]
    },
    {
      "cell_type": "code",
      "execution_count": 4,
      "metadata": {
        "colab": {
          "base_uri": "https://localhost:8080/",
          "height": 324
        },
        "id": "rwXYUKmal_2p",
        "outputId": "4540dcfe-7661-423e-91dc-992c3ef3fc81"
      },
      "outputs": [
        {
          "output_type": "display_data",
          "data": {
            "text/plain": [
              "<Figure size 640x480 with 10 Axes>"
            ],
            "image/png": "[encoded data removed]"
          },
          "metadata": {}
        }
      ],
      "source": [
        "for i in range(10):\n",
        "  plt.subplot(2,5,i+1)\n",
        "  plt.imshow(x_train[i], cmap='gray')\n",
        "  plt.axis('off')\n",
        "plt.show()"
      ]
    },
    {
      "cell_type": "code",
      "execution_count": 4,
      "metadata": {
        "id": "07YLG_7qmhd0"
      },
      "outputs": [],
      "source": []
    },
    {
      "cell_type": "markdown",
      "metadata": {
        "id": "QHl-RflNm6jm"
      },
      "source": [
        "data Preproccessing\n",
        "1: normalization\n",
        "2: reshape the data\n",
        "3:\n",
        "one hot encoding\n"
      ]
    },
    {
      "cell_type": "code",
      "execution_count": 5,
      "metadata": {
        "id": "7lmowBe3m_4V"
      },
      "outputs": [],
      "source": [
        "# normalization pixel values to between 0 and 1\n",
        "x_train = x_train.astype('float32') /255\n",
        "x_test = x_test.astype('float32')/255\n",
        "\n"
      ]
    },
    {
      "cell_type": "code",
      "execution_count": 6,
      "metadata": {
        "id": "bC6Y39qnn5QW"
      },
      "outputs": [],
      "source": [
        "# reshape the data to be 4D (batch_size, height, width, channels)\n",
        "x_train = np.expand_dims(x_train, axis = -1)\n",
        "x_test = np.expand_dims(x_test, axis = -1)"
      ]
    },
    {
      "cell_type": "code",
      "execution_count": 7,
      "metadata": {
        "id": "IHUGHxEboyfn"
      },
      "outputs": [],
      "source": [
        "# convert labels to one-hot encoded vectors\n",
        "y_train = to_categorical(y_train)\n",
        "y_test = to_categorical(y_test)"
      ]
    },
    {
      "cell_type": "code",
      "execution_count": 8,
      "metadata": {
        "id": "nqRCRvm2qPGl"
      },
      "outputs": [],
      "source": [
        "# define model architecture(CNN)\n",
        "model = Sequential()\n",
        "model.add(Conv2D(32,(3,3), activation = 'relu', input_shape= x_train.shape[1:]))\n",
        "model.add(MaxPooling2D((2,2)))\n",
        "model.add(Conv2D(64,(3,3), activation = 'relu'))\n",
        "model.add(MaxPooling2D((2,2)))\n",
        "model.add(Flatten())\n",
        "model.add(Dense(10,activation= 'softmax'))"
      ]
    },
    {
      "cell_type": "code",
      "execution_count": 9,
      "metadata": {
        "id": "eY6RJMbvr3_5"
      },
      "outputs": [],
      "source": [
        "# compile model\n",
        "model.compile(optimizer=\"adam\", loss='categorical_crossentropy', metrics=['accuracy'])"
      ]
    },
    {
      "cell_type": "code",
      "execution_count": 13,
      "metadata": {
        "id": "KxurHV2ftwtH",
        "colab": {
          "base_uri": "https://localhost:8080/"
        },
        "outputId": "2d5ed2bf-9a6d-404e-c807-29adb64590ed"
      },
      "outputs": [
        {
          "output_type": "stream",
          "name": "stdout",
          "text": [
            "Epoch 1/5\n",
            "375/375 [==============================] - 27s 71ms/step - loss: 0.0350 - accuracy: 0.9895 - val_loss: 0.0471 - val_accuracy: 0.9848\n",
            "Epoch 2/5\n",
            "375/375 [==============================] - 20s 52ms/step - loss: 0.0309 - accuracy: 0.9906 - val_loss: 0.0431 - val_accuracy: 0.9865\n",
            "Epoch 3/5\n",
            "375/375 [==============================] - 20s 53ms/step - loss: 0.0265 - accuracy: 0.9918 - val_loss: 0.0427 - val_accuracy: 0.9866\n",
            "Epoch 4/5\n",
            "375/375 [==============================] - 21s 55ms/step - loss: 0.0246 - accuracy: 0.9924 - val_loss: 0.0448 - val_accuracy: 0.9858\n",
            "Epoch 5/5\n",
            "375/375 [==============================] - 20s 54ms/step - loss: 0.0201 - accuracy: 0.9936 - val_loss: 0.0454 - val_accuracy: 0.9864\n"
          ]
        },
        {
          "output_type": "execute_result",
          "data": {
            "text/plain": [
              "<keras.src.callbacks.History at 0x7ce5695f7ee0>"
            ]
          },
          "metadata": {},
          "execution_count": 13
        }
      ],
      "source": [
        "model.fit(x_train, y_train, batch_size = 128, epochs = 5, validation_data=(x_test,y_test))"
      ]
    },
    {
      "cell_type": "code",
      "execution_count": 11,
      "metadata": {
        "id": "iWMDLyrG0b2v",
        "colab": {
          "base_uri": "https://localhost:8080/"
        },
        "outputId": "db979a90-32a9-479a-8184-ae2f153f264e"
      },
      "outputs": [
        {
          "output_type": "stream",
          "name": "stdout",
          "text": [
            "test accuracy:  0.9831666946411133\n"
          ]
        }
      ],
      "source": [
        "test_loss, test_acc = model.evaluate(x_test, y_test, verbose=0)\n",
        "print('test accuracy: ', test_acc)"
      ]
    },
    {
      "cell_type": "code",
      "execution_count": 12,
      "metadata": {
        "id": "JYjLMoD21MGk",
        "colab": {
          "base_uri": "https://localhost:8080/"
        },
        "outputId": "850d9280-7e12-4e15-a940-25a560c2b251"
      },
      "outputs": [
        {
          "output_type": "stream",
          "name": "stdout",
          "text": [
            "Training set shape: (48000, 28, 28, 1) (48000, 10)\n",
            "Testing set shape: (12000, 28, 28, 1) (12000, 10)\n"
          ]
        }
      ],
      "source": [
        "print(\"Training set shape:\", x_train.shape, y_train.shape)\n",
        "print(\"Testing set shape:\", x_test.shape, y_test.shape)"
      ]
    },
    {
      "cell_type": "code",
      "source": [],
      "metadata": {
        "id": "Jkp8DiBM9hSu"
      },
      "execution_count": 12,
      "outputs": []
    }
  ],
  "metadata": {
    "colab": {
      "provenance": [],
      "authorship_tag": "ABX9TyMvKEnKyLcsM0M6002ZuG2M",
      "include_colab_link": true
    },
    "kernelspec": {
      "display_name": "Python 3",
      "name": "python3"
    },
    "language_info": {
      "name": "python"
    }
  },
  "nbformat": 4,
  "nbformat_minor": 0
}